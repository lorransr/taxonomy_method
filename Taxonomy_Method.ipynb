{
  "nbformat": 4,
  "nbformat_minor": 0,
  "metadata": {
    "colab": {
      "name": "Taxonomy Method.ipynb",
      "provenance": [],
      "authorship_tag": "ABX9TyOxRCgqjqjG6ZMaX/KKEKmb",
      "include_colab_link": true
    },
    "kernelspec": {
      "name": "python3",
      "display_name": "Python 3"
    }
  },
  "cells": [
    {
      "cell_type": "markdown",
      "metadata": {
        "id": "view-in-github",
        "colab_type": "text"
      },
      "source": [
        "<a href=\"https://colab.research.google.com/github/lorransr/taxonomy_method/blob/main/Taxonomy_Method.ipynb\" target=\"_parent\"><img src=\"https://colab.research.google.com/assets/colab-badge.svg\" alt=\"Open In Colab\"/></a>"
      ]
    },
    {
      "cell_type": "markdown",
      "metadata": {
        "id": "ixMHWpvqimsd"
      },
      "source": [
        "Example"
      ]
    },
    {
      "cell_type": "code",
      "metadata": {
        "id": "TjqOzD14ieKx"
      },
      "source": [
        "import pandas as pd\r\n",
        "import numpy as np\r\n",
        "from scipy.spatial.distance import pdist\r\n",
        "from scipy.spatial.distance import squareform"
      ],
      "execution_count": 38,
      "outputs": []
    },
    {
      "cell_type": "code",
      "metadata": {
        "id": "9kxbnk25iyQW"
      },
      "source": [
        "#inputs\r\n",
        "data = {\"C1\":[0.71,1.33,1.45],\r\n",
        "        \"C2\":[4.1,5.9,4.9],\r\n",
        "        \"C3\":[0.18,0.74,0.27]\r\n",
        "        }\r\n",
        "criteria_type = {\"C1\":\"cost\",\"C2\":\"cost\",\"C3\":\"profit\"}\r\n",
        "index = [\"A1\",\"A2\",\"A3\"]\r\n",
        "raw = pd.DataFrame(data,index=index)"
      ],
      "execution_count": 188,
      "outputs": []
    },
    {
      "cell_type": "markdown",
      "metadata": {
        "id": "p9nbpXCksXIZ"
      },
      "source": [
        "## Passo 1: \r\n",
        "- Média e Desvio Padrão\r\n",
        "\r\n",
        "$$\\bar{r}_j = \\frac{1}{m} \\sum^m_{i=1}{r_{ij}}$$\r\n",
        "\r\n",
        "$$S_j = \\sqrt{\\frac{1}{m}\\sum^m_{i=1}{r_{ij}-\\bar{r}_j}}$$"
      ]
    },
    {
      "cell_type": "code",
      "metadata": {
        "id": "6rZUtI_AjLpE"
      },
      "source": [
        "criteria_mean = raw.mean()\r\n",
        "criteria_std = raw.std()"
      ],
      "execution_count": 11,
      "outputs": []
    },
    {
      "cell_type": "markdown",
      "metadata": {
        "id": "m5qNCDRfyZ4V"
      },
      "source": [
        "## Passo 2\r\n",
        "- Matriz Normalizada"
      ]
    },
    {
      "cell_type": "code",
      "metadata": {
        "id": "k_j9oQrGjhK1"
      },
      "source": [
        "std_matrix = (raw - criteria_mean)/criteria_std"
      ],
      "execution_count": 15,
      "outputs": []
    },
    {
      "cell_type": "markdown",
      "metadata": {
        "id": "Qcq_kZQeyWKY"
      },
      "source": [
        "## Passo 3\r\n",
        "- Matriz de distâncias compostas"
      ]
    },
    {
      "cell_type": "code",
      "metadata": {
        "colab": {
          "base_uri": "https://localhost:8080/"
        },
        "id": "0OprvMDLxWzV",
        "outputId": "7f346788-5d7f-4d17-9902-8344ea305072"
      },
      "source": [
        "#distância euclidiana entre A1 e A2\r\n",
        "np.sqrt(((std_matrix.loc[\"A1\"]-std_matrix.loc[\"A2\"])**2).sum())"
      ],
      "execution_count": 76,
      "outputs": [
        {
          "output_type": "execute_result",
          "data": {
            "text/plain": [
              "3.144579296487791"
            ]
          },
          "metadata": {
            "tags": []
          },
          "execution_count": 76
        }
      ]
    },
    {
      "cell_type": "code",
      "metadata": {
        "colab": {
          "base_uri": "https://localhost:8080/"
        },
        "id": "SkQIHLCVvIjl",
        "outputId": "02e6df9d-c8e7-4f3e-9fa5-b07436812305"
      },
      "source": [
        "#distâncias euclidianas entre alternativas\r\n",
        "pdist(std_matrix)"
      ],
      "execution_count": 85,
      "outputs": [
        {
          "output_type": "execute_result",
          "data": {
            "text/plain": [
              "array([3.1445793 , 2.08521849, 1.93997033])"
            ]
          },
          "metadata": {
            "tags": []
          },
          "execution_count": 85
        }
      ]
    },
    {
      "cell_type": "code",
      "metadata": {
        "colab": {
          "base_uri": "https://localhost:8080/",
          "height": 142
        },
        "id": "MG-2wybCkN6U",
        "outputId": "10fcf733-d89c-497b-8518-93f34c89a9d4"
      },
      "source": [
        "composite_distance = squareform(pdist(std_matrix))\r\n",
        "\r\n",
        "composite_distance_df = pd.DataFrame(\r\n",
        "    composite_distance,\r\n",
        "    index=index,\r\n",
        "    columns=index)\r\n",
        "composite_distance_df"
      ],
      "execution_count": 86,
      "outputs": [
        {
          "output_type": "execute_result",
          "data": {
            "text/html": [
              "<div>\n",
              "<style scoped>\n",
              "    .dataframe tbody tr th:only-of-type {\n",
              "        vertical-align: middle;\n",
              "    }\n",
              "\n",
              "    .dataframe tbody tr th {\n",
              "        vertical-align: top;\n",
              "    }\n",
              "\n",
              "    .dataframe thead th {\n",
              "        text-align: right;\n",
              "    }\n",
              "</style>\n",
              "<table border=\"1\" class=\"dataframe\">\n",
              "  <thead>\n",
              "    <tr style=\"text-align: right;\">\n",
              "      <th></th>\n",
              "      <th>A1</th>\n",
              "      <th>A2</th>\n",
              "      <th>A3</th>\n",
              "    </tr>\n",
              "  </thead>\n",
              "  <tbody>\n",
              "    <tr>\n",
              "      <th>A1</th>\n",
              "      <td>0.000000</td>\n",
              "      <td>3.144579</td>\n",
              "      <td>2.085218</td>\n",
              "    </tr>\n",
              "    <tr>\n",
              "      <th>A2</th>\n",
              "      <td>3.144579</td>\n",
              "      <td>0.000000</td>\n",
              "      <td>1.939970</td>\n",
              "    </tr>\n",
              "    <tr>\n",
              "      <th>A3</th>\n",
              "      <td>2.085218</td>\n",
              "      <td>1.939970</td>\n",
              "      <td>0.000000</td>\n",
              "    </tr>\n",
              "  </tbody>\n",
              "</table>\n",
              "</div>"
            ],
            "text/plain": [
              "          A1        A2        A3\n",
              "A1  0.000000  3.144579  2.085218\n",
              "A2  3.144579  0.000000  1.939970\n",
              "A3  2.085218  1.939970  0.000000"
            ]
          },
          "metadata": {
            "tags": []
          },
          "execution_count": 86
        }
      ]
    },
    {
      "cell_type": "markdown",
      "metadata": {
        "id": "7AD4tROMzRph"
      },
      "source": [
        "## Passo 4 \r\n",
        "- Homogeneinização das alternativas\r\n",
        "\r\n",
        "toma-se a média e desvio padrão das distâncias minimas de cada alternativa, de acordo com as equações.\r\n",
        "\r\n",
        "$$\\bar{O} = \\frac{1}{m} \\sum^m_{i=1}{r_{ij}}$$\r\n",
        "\r\n",
        "$$S_o = \\sqrt{\\frac{1}{m}\\sum^m_{i=1}{O_{i}-\\bar{O}}}$$\r\n",
        "\r\n",
        "A equação:\r\n",
        "\r\n",
        "$$O = \\bar{O} \\pm 2S_o$$\r\n",
        "\r\n",
        "determina a homogeneidade da matriz de distâncias compostas.\r\n",
        "\r\n",
        "Se a distância mínima de cada alternativa não se encontra situada no intervalo, a alternativa é considerada inomogênea, e é então descartada. Em seguida recalcula-se os valores de média e desbio padrão das distâncias mínimas."
      ]
    },
    {
      "cell_type": "code",
      "metadata": {
        "colab": {
          "base_uri": "https://localhost:8080/"
        },
        "id": "70hOK5kfzAj4",
        "outputId": "512a610e-4b13-47e9-b606-b4002a3d6ce2"
      },
      "source": [
        "filter_1 = composite_distance_df>0\r\n",
        "shortest_distance_values = composite_distance_df[filter_1].min()\r\n",
        "shortest_distance_values"
      ],
      "execution_count": 99,
      "outputs": [
        {
          "output_type": "execute_result",
          "data": {
            "text/plain": [
              "A1    2.085218\n",
              "A2    1.939970\n",
              "A3    1.939970\n",
              "dtype: float64"
            ]
          },
          "metadata": {
            "tags": []
          },
          "execution_count": 99
        }
      ]
    },
    {
      "cell_type": "code",
      "metadata": {
        "colab": {
          "base_uri": "https://localhost:8080/"
        },
        "id": "SZYUlglmzapc",
        "outputId": "145995f8-8cdd-4485-e4f0-a2b0d27d2a73"
      },
      "source": [
        "mean_shortest = shortest_distance_values.mean()\r\n",
        "std_shortest = shortest_distance_values.std()\r\n",
        "\r\n",
        "print('{} +- 2 * {}\\n'.format(mean_shortest,std_shortest))\r\n",
        "\r\n",
        "lower = mean_shortest-2*std_shortest\r\n",
        "upper = mean_shortest+2*std_shortest\r\n",
        "\r\n",
        "accepted_range = [lower,upper]\r\n",
        "print(\"accepted range: {}\".format(accepted_range))"
      ],
      "execution_count": 138,
      "outputs": [
        {
          "output_type": "stream",
          "text": [
            "1.9883863858665825 +- 2 * 0.08385906248480482\n",
            "\n",
            "accepted range: [1.8206682608969729, 2.156104510836192]\n"
          ],
          "name": "stdout"
        }
      ]
    },
    {
      "cell_type": "code",
      "metadata": {
        "colab": {
          "base_uri": "https://localhost:8080/"
        },
        "id": "sg8MQf-51s4w",
        "outputId": "4781cfe8-f204-4ae9-c741-e60bb50dce64"
      },
      "source": [
        "condition_1=shortest_distance_values >= accepted_range[0]\r\n",
        "condition_2=shortest_distance_values <= accepted_range[1]\r\n",
        "\r\n",
        "(condition_1) & (condition_2)"
      ],
      "execution_count": 192,
      "outputs": [
        {
          "output_type": "execute_result",
          "data": {
            "text/plain": [
              "A1    True\n",
              "A2    True\n",
              "A3    True\n",
              "dtype: bool"
            ]
          },
          "metadata": {
            "tags": []
          },
          "execution_count": 192
        }
      ]
    },
    {
      "cell_type": "code",
      "metadata": {
        "id": "r7Rqsq8PVD7M"
      },
      "source": [
        "std_matrix_filtered = std_matrix.loc[shortest_distance_values[(condition_1) & (condition_2)].index]"
      ],
      "execution_count": 193,
      "outputs": []
    },
    {
      "cell_type": "markdown",
      "metadata": {
        "id": "qTBePMw_2ChM"
      },
      "source": [
        "## Passo 5\r\n",
        "* O padrão de desenvolvimento\r\n",
        "\r\n",
        "O padrão de desenvolvimento de atributos é determinado através da equação abaixo, utilizando-se a matriz obtida no passo 2.\r\n",
        "\r\n",
        "$$C_{io} = \\sqrt{\\sum^n_{j=1}{(z_{ij}-z_{oj})^2}}$$\r\n",
        "\r\n",
        "Onde, $Z_{oj}$ representa o valor ideal do j-ésimo atributo, a depender da característica monotônica de lucro ou custo."
      ]
    },
    {
      "cell_type": "code",
      "metadata": {
        "colab": {
          "base_uri": "https://localhost:8080/"
        },
        "id": "V4crQ6HiDJN4",
        "outputId": "f82fd74b-9f31-40dd-9e43-b5bb6bf0f731"
      },
      "source": [
        "ideal_values = std_matrix_filtered.apply(\r\n",
        "    lambda x: x.max() if criteria_type[x.name]==\"profit\" else x.min()\r\n",
        "    )\r\n",
        "ideal_values"
      ],
      "execution_count": 194,
      "outputs": [
        {
          "output_type": "execute_result",
          "data": {
            "text/plain": [
              "C1   -1.141447\n",
              "C2   -0.960988\n",
              "C3    1.141699\n",
              "dtype: float64"
            ]
          },
          "metadata": {
            "tags": []
          },
          "execution_count": 194
        }
      ]
    },
    {
      "cell_type": "code",
      "metadata": {
        "colab": {
          "base_uri": "https://localhost:8080/"
        },
        "id": "FFoApCoHHZy8",
        "outputId": "db7388f8-cdd1-42d1-c939-3323200fb784"
      },
      "source": [
        "development_pattern = np.sqrt(((std_matrix_filtered-ideal_values)**2).sum(axis=1))\r\n",
        "development_pattern"
      ],
      "execution_count": 196,
      "outputs": [
        {
          "output_type": "execute_result",
          "data": {
            "text/plain": [
              "A1    1.862189\n",
              "A2    2.533896\n",
              "A3    2.588677\n",
              "dtype: float64"
            ]
          },
          "metadata": {
            "tags": []
          },
          "execution_count": 196
        }
      ]
    },
    {
      "cell_type": "markdown",
      "metadata": {
        "id": "D2mt2ZON_ywd"
      },
      "source": [
        "## Passo 6\r\n",
        "- Ranking Final das Alternativas\r\n",
        "\r\n",
        "O limite superior do desenvolvimento $C_{O}$ é inicialmente calculado de acordo com a equação:\r\n",
        "\r\n",
        "$$C_o=\\bar{C}_{io} + 2S_{C_{io}}$$\r\n",
        "\r\n",
        "Por fim os atributos são ranqueados de a acordo com o atributo de desenvolvimento $F_{i}$ que diz respeito a i-gésima alternativa e é obtico a partir da equação:\r\n",
        "\r\n",
        "$$F_{i}=\\frac{C_{io}}{C_o}$$\r\n",
        "\r\n",
        "O valor de $F_i$ é entre zero e um.\r\n",
        "\r\n",
        "Valores próximos de 0 indicam um maior desenvolvimento da alternativa (rank maior).\r\n",
        "\r\n",
        "Valores próximos de um demonstram uma falta de desenvolvimento da alternativa (rank menor)"
      ]
    },
    {
      "cell_type": "code",
      "metadata": {
        "colab": {
          "base_uri": "https://localhost:8080/"
        },
        "id": "z5_s2Jeg8vKa",
        "outputId": "4996310f-2fe4-46e9-e115-0bb605daa9f6"
      },
      "source": [
        "high_limit = development_pattern.mean() + 2*development_pattern.std()\r\n",
        "high_limit"
      ],
      "execution_count": 197,
      "outputs": [
        {
          "output_type": "execute_result",
          "data": {
            "text/plain": [
              "3.1373596451972654"
            ]
          },
          "metadata": {
            "tags": []
          },
          "execution_count": 197
        }
      ]
    },
    {
      "cell_type": "code",
      "metadata": {
        "colab": {
          "base_uri": "https://localhost:8080/"
        },
        "id": "qF0to_-GH1mY",
        "outputId": "a57c7bd2-91a5-4b4f-b815-f1385e496821"
      },
      "source": [
        "development_attribute = development_pattern/high_limit\r\n",
        "development_attribute.sort_values()"
      ],
      "execution_count": 198,
      "outputs": [
        {
          "output_type": "execute_result",
          "data": {
            "text/plain": [
              "A1    0.593553\n",
              "A2    0.807653\n",
              "A3    0.825113\n",
              "dtype: float64"
            ]
          },
          "metadata": {
            "tags": []
          },
          "execution_count": 198
        }
      ]
    }
  ]
}